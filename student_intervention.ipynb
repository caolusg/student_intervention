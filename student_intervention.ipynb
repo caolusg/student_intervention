{
 "metadata": {
  "kernelspec": {
   "display_name": "Python 2",
   "language": "python",
   "name": "python2"
  },
  "language_info": {
   "codemirror_mode": {
    "name": "ipython",
    "version": 2
   },
   "file_extension": ".py",
   "mimetype": "text/x-python",
   "name": "python",
   "nbconvert_exporter": "python",
   "pygments_lexer": "ipython2",
   "version": "2.7.10"
  },
  "name": "",
  "signature": "sha256:f830e6d8a5656d7a79d40b89b9b1f07f3f541470b6418016eb5628d1bcb2d80b"
 },
 "nbformat": 3,
 "nbformat_minor": 0,
 "worksheets": [
  {
   "cells": [
    {
     "cell_type": "markdown",
     "metadata": {},
     "source": [
      "# Project 2: Supervised Learning\n",
      "### Building a Student Intervention System"
     ]
    },
    {
     "cell_type": "markdown",
     "metadata": {},
     "source": [
      "## 1. Classification vs Regression\n",
      "\n",
      "Your goal is to identify students who might need early intervention - which type of supervised machine learning problem is this, classification or regression? Why?"
     ]
    },
    {
     "cell_type": "markdown",
     "metadata": {},
     "source": [
      "## 2. Exploring the Data\n",
      "\n",
      "Let's go ahead and read in the student dataset first.\n",
      "\n",
      "_To execute a code cell, click inside it and press **Shift+Enter**._"
     ]
    },
    {
     "cell_type": "code",
     "collapsed": false,
     "input": [
      "# Import libraries\n",
      "import numpy as np\n",
      "import pandas as pd\n",
      "from sklearn.cross_validation import train_test_split"
     ],
     "language": "python",
     "metadata": {},
     "outputs": [],
     "prompt_number": 16
    },
    {
     "cell_type": "code",
     "collapsed": false,
     "input": [
      "# Read student data\n",
      "student_data = pd.read_csv(\"student-data.csv\")\n",
      "print \"Student data read successfully!\"\n",
      "# Note: The last column 'passed' is the target/label, all other are feature columns"
     ],
     "language": "python",
     "metadata": {},
     "outputs": [
      {
       "output_type": "stream",
       "stream": "stdout",
       "text": [
        "Student data read successfully!\n"
       ]
      }
     ],
     "prompt_number": 17
    },
    {
     "cell_type": "markdown",
     "metadata": {},
     "source": [
      "Now, can you find out the following facts about the dataset?\n",
      "- Total number of students\n",
      "- Number of students who passed\n",
      "- Number of students who failed\n",
      "- Graduation rate of the class (%)\n",
      "- Number of features\n",
      "\n",
      "_Use the code block below to compute these values. Instructions/steps are marked using **TODO**s._"
     ]
    },
    {
     "cell_type": "code",
     "collapsed": false,
     "input": [
      "# TODO: Compute desired values - replace each '?' with an appropriate expression/function call\n",
      "n_students = len(student_data.index)\n",
      "n_features = len(student_data.columns)\n",
      "n_passed = len(student_data[student_data['passed'] == 'yes'])\n",
      "n_failed =  len(student_data[student_data['passed'] == 'no'])\n",
      "grad_rate = 100.0*n_passed/n_students\n",
      "print \"Total number of students: {}\".format(n_students)\n",
      "print \"Number of students who passed: {}\".format(n_passed)\n",
      "print \"Number of students who failed: {}\".format(n_failed)\n",
      "print \"Number of features: {}\".format(n_features)\n",
      "print \"Graduation rate of the class: {:.2f}%\".format(grad_rate)"
     ],
     "language": "python",
     "metadata": {},
     "outputs": [
      {
       "output_type": "stream",
       "stream": "stdout",
       "text": [
        "Total number of students: 395\n",
        "Number of students who passed: 265\n",
        "Number of students who failed: 130\n",
        "Number of features: 31\n",
        "Graduation rate of the class: 67.09%\n"
       ]
      }
     ],
     "prompt_number": 18
    },
    {
     "cell_type": "markdown",
     "metadata": {},
     "source": [
      "## 3. Preparing the Data\n",
      "In this section, we will prepare the data for modeling, training and testing.\n",
      "\n",
      "### Identify feature and target columns\n",
      "It is often the case that the data you obtain contains non-numeric features. This can be a problem, as most machine learning algorithms expect numeric data to perform computations with.\n",
      "\n",
      "Let's first separate our data into feature and target columns, and see if any features are non-numeric.<br/>\n",
      "**Note**: For this dataset, the last column (`'passed'`) is the target or label we are trying to predict."
     ]
    },
    {
     "cell_type": "code",
     "collapsed": false,
     "input": [
      "# Extract feature (X) and target (y) columns\n",
      "print student_data.columns.values\n",
      "feature_cols = list(student_data.columns[:-1])  # all columns but last are features\n",
      "target_col = student_data.columns[-1]  # last column is the target/label\n",
      "print \"Feature column(s):-\\n{}\".format(feature_cols)\n",
      "print \"Target column: {}\".format(target_col)\n",
      "\n",
      "X_all = student_data[feature_cols]  # feature values for all students\n",
      "y_all = student_data[target_col]  # corresponding targets/labels\n",
      "print \"\\nFeature values:-\"\n",
      "print X_all.head()  # print the first 5 rows\n",
      "print \"\\nFeature values:-\"\n",
      "print y_all.head()  # print the first 5 rows"
     ],
     "language": "python",
     "metadata": {},
     "outputs": [
      {
       "output_type": "stream",
       "stream": "stdout",
       "text": [
        "['school' 'sex' 'age' 'address' 'famsize' 'Pstatus' 'Medu' 'Fedu' 'Mjob'\n",
        " 'Fjob' 'reason' 'guardian' 'traveltime' 'studytime' 'failures' 'schoolsup'\n",
        " 'famsup' 'paid' 'activities' 'nursery' 'higher' 'internet' 'romantic'\n",
        " 'famrel' 'freetime' 'goout' 'Dalc' 'Walc' 'health' 'absences' 'passed']\n",
        "Feature column(s):-\n",
        "['school', 'sex', 'age', 'address', 'famsize', 'Pstatus', 'Medu', 'Fedu', 'Mjob', 'Fjob', 'reason', 'guardian', 'traveltime', 'studytime', 'failures', 'schoolsup', 'famsup', 'paid', 'activities', 'nursery', 'higher', 'internet', 'romantic', 'famrel', 'freetime', 'goout', 'Dalc', 'Walc', 'health', 'absences']\n",
        "Target column: passed\n",
        "\n",
        "Feature values:-\n",
        "  school sex  age address famsize Pstatus  Medu  Fedu     Mjob      Fjob  \\\n",
        "0     GP   F   18       U     GT3       A     4     4  at_home   teacher   \n",
        "1     GP   F   17       U     GT3       T     1     1  at_home     other   \n",
        "2     GP   F   15       U     LE3       T     1     1  at_home     other   \n",
        "3     GP   F   15       U     GT3       T     4     2   health  services   \n",
        "4     GP   F   16       U     GT3       T     3     3    other     other   \n",
        "\n",
        "    ...    higher internet  romantic  famrel  freetime goout Dalc Walc health  \\\n",
        "0   ...       yes       no        no       4         3     4    1    1      3   \n",
        "1   ...       yes      yes        no       5         3     3    1    1      3   \n",
        "2   ...       yes      yes        no       4         3     2    2    3      3   \n",
        "3   ...       yes      yes       yes       3         2     2    1    1      5   \n",
        "4   ...       yes       no        no       4         3     2    1    2      5   \n",
        "\n",
        "  absences  \n",
        "0        6  \n",
        "1        4  \n",
        "2       10  \n",
        "3        2  \n",
        "4        4  \n",
        "\n",
        "[5 rows x 30 columns]\n",
        "\n",
        "Feature values:-\n",
        "0     no\n",
        "1     no\n",
        "2    yes\n",
        "3    yes\n",
        "4    yes\n",
        "Name: passed, dtype: object\n"
       ]
      }
     ],
     "prompt_number": 19
    },
    {
     "cell_type": "markdown",
     "metadata": {},
     "source": [
      "### Preprocess feature columns\n",
      "\n",
      "As you can see, there are several non-numeric columns that need to be converted! Many of them are simply `yes`/`no`, e.g. `internet`. These can be reasonably converted into `1`/`0` (binary) values.\n",
      "\n",
      "Other columns, like `Mjob` and `Fjob`, have more than two values, and are known as _categorical variables_. The recommended way to handle such a column is to create as many columns as possible values (e.g. `Fjob_teacher`, `Fjob_other`, `Fjob_services`, etc.), and assign a `1` to one of them and `0` to all others.\n",
      "\n",
      "These generated columns are sometimes called _dummy variables_, and we will use the [`pandas.get_dummies()`](http://pandas.pydata.org/pandas-docs/stable/generated/pandas.get_dummies.html?highlight=get_dummies#pandas.get_dummies) function to perform this transformation."
     ]
    },
    {
     "cell_type": "code",
     "collapsed": false,
     "input": [
      "# Preprocess feature columns\n",
      "def preprocess_features(X):\n",
      "    outX = pd.DataFrame(index=X.index)  # output dataframe, initially empty\n",
      "    \n",
      "    # Check each column\n",
      "    for col, col_data in X.iteritems():\n",
      "        # If data type is non-numeric, try to replace all yes/no values with 1/0\n",
      "        if col_data.dtype == object:\n",
      "            col_data = col_data.replace(['yes', 'no'], [1, 0])\n",
      "        # Note: This should change the data type for yes/no columns to int\n",
      "\n",
      "        # If still non-numeric, convert to one or more dummy variables\n",
      "        if col_data.dtype == object:\n",
      "            col_data = pd.get_dummies(col_data, prefix=col)  # e.g. 'school' => 'school_GP', 'school_MS'\n",
      "\n",
      "        outX = outX.join(col_data)  # collect column(s) in output dataframe\n",
      "\n",
      "    return outX\n",
      "\n",
      "X_all = preprocess_features(X_all)\n",
      "print \"Processed feature columns ({}):-\\n{}\".format(len(X_all.columns), list(X_all.columns))"
     ],
     "language": "python",
     "metadata": {},
     "outputs": [
      {
       "output_type": "stream",
       "stream": "stdout",
       "text": [
        "Processed feature columns (48):-\n",
        "['school_GP', 'school_MS', 'sex_F', 'sex_M', 'age', 'address_R', 'address_U', 'famsize_GT3', 'famsize_LE3', 'Pstatus_A', 'Pstatus_T', 'Medu', 'Fedu', 'Mjob_at_home', 'Mjob_health', 'Mjob_other', 'Mjob_services', 'Mjob_teacher', 'Fjob_at_home', 'Fjob_health', 'Fjob_other', 'Fjob_services', 'Fjob_teacher', 'reason_course', 'reason_home', 'reason_other', 'reason_reputation', 'guardian_father', 'guardian_mother', 'guardian_other', 'traveltime', 'studytime', 'failures', 'schoolsup', 'famsup', 'paid', 'activities', 'nursery', 'higher', 'internet', 'romantic', 'famrel', 'freetime', 'goout', 'Dalc', 'Walc', 'health', 'absences']\n"
       ]
      }
     ],
     "prompt_number": 20
    },
    {
     "cell_type": "markdown",
     "metadata": {},
     "source": [
      "### Split data into training and test sets\n",
      "\n",
      "So far, we have converted all _categorical_ features into numeric values. In this next step, we split the data (both features and corresponding labels) into training and test sets."
     ]
    },
    {
     "cell_type": "code",
     "collapsed": false,
     "input": [
      "# First, decide how many training vs test samples you want\n",
      "num_all = student_data.shape[0]  # same as len(student_data)\n",
      "num_train = 300  # about 75% of the data\n",
      "num_test = num_all - num_train\n",
      "\n",
      "# TODO: Then, select features (X) and corresponding labels (y) for the training and test sets\n",
      "# Note: Shuffle the data or randomly select samples to avoid any bias due to ordering in the dataset\n",
      "\n",
      "X_train, X_test, y_train,y_test  = train_test_split(X_all, y_all, test_size = num_test, train_size = num_train)\n",
      "\n",
      "print \"Training set: {} samples\".format(X_train.shape[0])\n",
      "print \"Test set: {} samples\".format(X_test.shape[0])\n",
      "# Note: If you need a validation set, extract it from within training data"
     ],
     "language": "python",
     "metadata": {},
     "outputs": [
      {
       "output_type": "stream",
       "stream": "stdout",
       "text": [
        "Training set: 300 samples\n",
        "Test set: 95 samples\n"
       ]
      }
     ],
     "prompt_number": 21
    },
    {
     "cell_type": "markdown",
     "metadata": {},
     "source": [
      "## 4. Training and Evaluating Models\n",
      "Choose 3 supervised learning models that are available in scikit-learn, and appropriate for this problem. For each model:\n",
      "\n",
      "- What are the general applications of this model? What are its strengths and weaknesses?\n",
      "- Given what you know about the data so far, why did you choose this model to apply?\n",
      "- Fit this model to the training data, try to predict labels (for both training and test sets), and measure the F<sub>1</sub> score. Repeat this process with different training set sizes (100, 200, 300), keeping test set constant.\n",
      "\n",
      "Produce a table showing training time, prediction time, F<sub>1</sub> score on training set and F<sub>1</sub> score on test set, for each training set size.\n",
      "\n",
      "Note: You need to produce 3 such tables - one for each model."
     ]
    },
    {
     "cell_type": "code",
     "collapsed": false,
     "input": [
      "# Train a model\n",
      "import time\n",
      "\n",
      "def train_classifier(clf, X_train, y_train):\n",
      "    print \"Training {}...\".format(clf.__class__.__name__)\n",
      "    start = time.time()\n",
      "    clf.fit(X_train, y_train)\n",
      "    end = time.time()\n",
      "    print \"Done!\\nTraining time (secs): {:.3f}\".format(end - start)\n",
      "\n",
      "# TODO: Choose a model, import it and instantiate an object\n",
      "from sklearn import svm\n",
      "clf = svm.SVC()\n",
      "print clf\n",
      "\n",
      "# Fit model to training data\n",
      "train_classifier(clf, X_train, y_train)  # note: using entire training set here\n",
      "#print clf  # you can inspect the learned model by printing it"
     ],
     "language": "python",
     "metadata": {},
     "outputs": [
      {
       "output_type": "stream",
       "stream": "stdout",
       "text": [
        "SVC(C=1.0, cache_size=200, class_weight=None, coef0=0.0,\n",
        "  decision_function_shape=None, degree=3, gamma='auto', kernel='rbf',\n",
        "  max_iter=-1, probability=False, random_state=None, shrinking=True,\n",
        "  tol=0.001, verbose=False)\n",
        "Training SVC...\n",
        "Done!\n",
        "Training time (secs): 0.009\n"
       ]
      }
     ],
     "prompt_number": 22
    },
    {
     "cell_type": "code",
     "collapsed": false,
     "input": [
      "# Predict on training set and compute F1 score\n",
      "from sklearn.metrics import f1_score\n",
      "\n",
      "def predict_labels(clf, features, target):\n",
      "    print \"Predicting labels using {}...\".format(clf.__class__.__name__)\n",
      "    start = time.time()\n",
      "    y_pred = clf.predict(features)\n",
      "    end = time.time()\n",
      "    print \"Done!\\nPrediction time (secs): {:.3f}\".format(end - start)   \n",
      "    return f1_score(target.values, y_pred, pos_label='yes')\n",
      "\n",
      "train_f1_score = predict_labels(clf, X_train, y_train)\n",
      "print \"F1 score for training set: {}\".format(train_f1_score)\n",
      "print "
     ],
     "language": "python",
     "metadata": {},
     "outputs": [
      {
       "output_type": "stream",
       "stream": "stdout",
       "text": [
        "Predicting labels using SVC...\n",
        "Done!\n",
        "Prediction time (secs): 0.006\n",
        "F1 score for training set: 0.88085106383\n",
        "\n"
       ]
      }
     ],
     "prompt_number": 23
    },
    {
     "cell_type": "code",
     "collapsed": false,
     "input": [
      "# Predict on test data\n",
      "print \"F1 score for test set: {}\".format(predict_labels(clf, X_test, y_test))"
     ],
     "language": "python",
     "metadata": {},
     "outputs": [
      {
       "output_type": "stream",
       "stream": "stdout",
       "text": [
        "Predicting labels using SVC...\n",
        "Done!\n",
        "Prediction time (secs): 0.002\n",
        "F1 score for test set: 0.75\n"
       ]
      }
     ],
     "prompt_number": 24
    },
    {
     "cell_type": "code",
     "collapsed": false,
     "input": [
      "# Train and predict using different training set sizes\n",
      "def train_predict(clf, X_train, y_train, X_test, y_test):\n",
      "    print \"------------------------------------------\"\n",
      "    print \"Training set size: {}\".format(len(X_train))\n",
      "    train_classifier(clf, X_train, y_train)\n",
      "    print \"F1 score for training set: {}\".format(predict_labels(clf, X_train, y_train))\n",
      "    print \"F1 score for test set: {}\".format(predict_labels(clf, X_test, y_test))\n",
      "\n",
      "# TODO: Run the helper function above for desired subsets of training data\n",
      "# Note: Keep the test set constant\n",
      "\n",
      "train_predict(clf, X_train, y_train, X_test, y_test)\n",
      "\n",
      "\n",
      "num_train = 200\n",
      "num_test = num_all - num_train\n",
      "X_train, X_test, y_train,y_test  = train_test_split(X_all, y_all, test_size = num_test, train_size = num_train)\n",
      "train_predict(clf, X_train, y_train, X_test, y_test)\n",
      "\n",
      "\n",
      "num_train = 100 \n",
      "num_test = num_all - num_train\n",
      "X_train, X_test, y_train,y_test  = train_test_split(X_all, y_all, test_size = num_test, train_size = num_train)\n",
      "train_predict(clf, X_train, y_train, X_test, y_test)"
     ],
     "language": "python",
     "metadata": {},
     "outputs": [
      {
       "output_type": "stream",
       "stream": "stdout",
       "text": [
        "------------------------------------------\n",
        "Training set size: 300\n",
        "Training SVC...\n",
        "Done!\n",
        "Training time (secs): 0.008\n",
        "Predicting labels using SVC...\n",
        "Done!\n",
        "Prediction time (secs): 0.005\n",
        "F1 score for training set: 0.88085106383\n",
        "Predicting labels using SVC...\n",
        "Done!\n",
        "Prediction time (secs): 0.002\n",
        "F1 score for test set: 0.75\n",
        "------------------------------------------\n",
        "Training set size: 200\n",
        "Training SVC...\n",
        "Done!\n",
        "Training time (secs): 0.003\n",
        "Predicting labels using SVC...\n",
        "Done!\n",
        "Prediction time (secs): 0.003\n",
        "F1 score for training set: 0.877419354839\n",
        "Predicting labels using SVC...\n",
        "Done!\n",
        "Prediction time (secs): 0.002\n",
        "F1 score for test set: 0.801261829653\n",
        "------------------------------------------\n",
        "Training set size: 100\n",
        "Training SVC...\n",
        "Done!\n",
        "Training time (secs): 0.001\n",
        "Predicting labels using SVC...\n",
        "Done!\n",
        "Prediction time (secs): 0.001\n",
        "F1 score for training set: 0.875\n",
        "Predicting labels using SVC...\n",
        "Done!\n",
        "Prediction time (secs): 0.002\n",
        "F1 score for test set: 0.791011235955\n"
       ]
      }
     ],
     "prompt_number": 25
    },
    {
     "cell_type": "code",
     "collapsed": false,
     "input": [
      "# TODO: Train and predict using Decision Trees\n",
      "from sklearn import tree\n",
      "clf = tree.DecisionTreeClassifier()\n",
      "\n",
      "num_train = 300\n",
      "num_test = num_all - num_train\n",
      "X_train, X_test, y_train,y_test  = train_test_split(X_all, y_all, test_size = num_test, train_size = num_train)\n",
      "train_predict(clf, X_train, y_train, X_test, y_test)\n",
      "\n",
      "\n",
      "num_train = 200\n",
      "num_test = num_all - num_train\n",
      "X_train, X_test, y_train,y_test  = train_test_split(X_all, y_all, test_size = num_test, train_size = num_train)\n",
      "train_predict(clf, X_train, y_train, X_test, y_test)\n",
      "\n",
      "\n",
      "\n",
      "num_train = 100\n",
      "num_test = num_all - num_train\n",
      "X_train, X_test, y_train,y_test  = train_test_split(X_all, y_all, test_size = num_test, train_size = num_train)\n",
      "train_predict(clf, X_train, y_train, X_test, y_test)"
     ],
     "language": "python",
     "metadata": {},
     "outputs": [
      {
       "output_type": "stream",
       "stream": "stdout",
       "text": [
        "------------------------------------------\n",
        "Training set size: 300\n",
        "Training DecisionTreeClassifier...\n",
        "Done!\n",
        "Training time (secs): 0.003\n",
        "Predicting labels using DecisionTreeClassifier...\n",
        "Done!\n",
        "Prediction time (secs): 0.000\n",
        "F1 score for training set: 1.0\n",
        "Predicting labels using DecisionTreeClassifier...\n",
        "Done!\n",
        "Prediction time (secs): 0.001\n",
        "F1 score for test set: 0.77519379845\n",
        "------------------------------------------\n",
        "Training set size: 200\n",
        "Training DecisionTreeClassifier...\n",
        "Done!\n",
        "Training time (secs): 0.002\n",
        "Predicting labels using DecisionTreeClassifier...\n",
        "Done!\n",
        "Prediction time (secs): 0.000\n",
        "F1 score for training set: 1.0\n",
        "Predicting labels using DecisionTreeClassifier...\n",
        "Done!\n",
        "Prediction time (secs): 0.001\n",
        "F1 score for test set: 0.736842105263\n",
        "------------------------------------------\n",
        "Training set size: 100\n",
        "Training DecisionTreeClassifier...\n",
        "Done!\n",
        "Training time (secs): 0.001\n",
        "Predicting labels using DecisionTreeClassifier...\n",
        "Done!\n",
        "Prediction time (secs): 0.000\n",
        "F1 score for training set: 1.0\n",
        "Predicting labels using DecisionTreeClassifier...\n",
        "Done!\n",
        "Prediction time (secs): 0.000\n",
        "F1 score for test set: 0.705263157895\n"
       ]
      }
     ],
     "prompt_number": 27
    },
    {
     "cell_type": "code",
     "collapsed": false,
     "input": [
      "# TODO: Train and predict using Stochastic Gradient Descent\n",
      "\n",
      "from sklearn.linear_model import SGDClassifier\n",
      "clf = SGDClassifier(loss=\"hinge\", penalty=\"l2\")\n",
      "\n",
      "\n",
      "num_train = 300\n",
      "num_test = num_all - num_train\n",
      "X_train, X_test, y_train,y_test  = train_test_split(X_all, y_all, test_size = num_test, train_size = num_train)\n",
      "train_predict(clf, X_train, y_train, X_test, y_test)\n",
      "\n",
      "\n",
      "num_train = 200\n",
      "num_test = num_all - num_train\n",
      "X_train, X_test, y_train,y_test  = train_test_split(X_all, y_all, test_size = num_test, train_size = num_train)\n",
      "train_predict(clf, X_train, y_train, X_test, y_test)\n",
      "\n",
      "\n",
      "\n",
      "num_train = 100\n",
      "num_test = num_all - num_train\n",
      "X_train, X_test, y_train,y_test  = train_test_split(X_all, y_all, test_size = num_test, train_size = num_train)\n",
      "train_predict(clf, X_train, y_train, X_test, y_test)\n"
     ],
     "language": "python",
     "metadata": {},
     "outputs": [
      {
       "output_type": "stream",
       "stream": "stdout",
       "text": [
        "------------------------------------------\n",
        "Training set size: 300\n",
        "Training SGDClassifier...\n",
        "Done!\n",
        "Training time (secs): 0.002\n",
        "Predicting labels using SGDClassifier...\n",
        "Done!\n",
        "Prediction time (secs): 0.000\n",
        "F1 score for training set: 0.830188679245\n",
        "Predicting labels using SGDClassifier...\n",
        "Done!\n",
        "Prediction time (secs): 0.000\n",
        "F1 score for test set: 0.811188811189\n",
        "------------------------------------------\n",
        "Training set size: 200\n",
        "Training SGDClassifier...\n",
        "Done!\n",
        "Training time (secs): 0.001\n",
        "Predicting labels using SGDClassifier...\n",
        "Done!\n",
        "Prediction time (secs): 0.000\n",
        "F1 score for training set: 0.835443037975\n",
        "Predicting labels using SGDClassifier...\n",
        "Done!\n",
        "Prediction time (secs): 0.001\n",
        "F1 score for test set: 0.772413793103\n",
        "------------------------------------------\n",
        "Training set size: 100\n",
        "Training SGDClassifier...\n",
        "Done!\n",
        "Training time (secs): 0.000\n",
        "Predicting labels using SGDClassifier...\n",
        "Done!\n",
        "Prediction time (secs): 0.000\n",
        "F1 score for training set: 0.784810126582\n",
        "Predicting labels using SGDClassifier...\n",
        "Done!\n",
        "Prediction time (secs): 0.001\n",
        "F1 score for test set: 0.804255319149\n"
       ]
      }
     ],
     "prompt_number": 28
    },
    {
     "cell_type": "markdown",
     "metadata": {},
     "source": [
      "## 5. Choosing the Best Model\n",
      "\n",
      "- Based on the experiments you performed earlier, in 1-2 paragraphs explain to the board of supervisors what single model you chose as the best model. Which model is generally the most appropriate based on the available data, limited resources, cost, and performance?\n",
      "- In 1-2 paragraphs explain to the board of supervisors in layman's terms how the final model chosen is supposed to work (for example if you chose a Decision Tree or Support Vector Machine, how does it make a prediction).\n",
      "- Fine-tune the model. Use Gridsearch with at least one important parameter tuned and with at least 3 settings. Use the entire training set for this.\n",
      "- What is the model's final F<sub>1</sub> score?"
     ]
    },
    {
     "cell_type": "code",
     "collapsed": true,
     "input": [
      "# TODO: Fine-tune your model and report the best F1 score"
     ],
     "language": "python",
     "metadata": {},
     "outputs": [],
     "prompt_number": 14
    },
    {
     "cell_type": "code",
     "collapsed": false,
     "input": [
      "from sklearn import grid_search\n",
      "import pylab as pl"
     ],
     "language": "python",
     "metadata": {},
     "outputs": [],
     "prompt_number": 37
    },
    {
     "cell_type": "code",
     "collapsed": false,
     "input": [
      "param_grid = dict(loss=['hinge','log','modified_huber','squared_hinge','perceptron',\n",
      "                      'squared_loss','huber','epsilon_insensitive','squared_epsilon_insensitive'],\n",
      "                      penalty=['none','l2','l1','elasticnet'])"
     ],
     "language": "python",
     "metadata": {},
     "outputs": [],
     "prompt_number": 48
    },
    {
     "cell_type": "code",
     "collapsed": false,
     "input": [
      "clf = SGDClassifier()\n",
      "grid = grid_search.GridSearchCV(clf, param_grid, cv=10, scoring='accuracy')"
     ],
     "language": "python",
     "metadata": {},
     "outputs": [],
     "prompt_number": 49
    },
    {
     "cell_type": "code",
     "collapsed": false,
     "input": [
      "grid.fit(X_all, y_all)"
     ],
     "language": "python",
     "metadata": {},
     "outputs": [
      {
       "metadata": {},
       "output_type": "pyout",
       "prompt_number": 50,
       "text": [
        "GridSearchCV(cv=10, error_score='raise',\n",
        "       estimator=SGDClassifier(alpha=0.0001, average=False, class_weight=None, epsilon=0.1,\n",
        "       eta0=0.0, fit_intercept=True, l1_ratio=0.15,\n",
        "       learning_rate='optimal', loss='hinge', n_iter=5, n_jobs=1,\n",
        "       penalty='l2', power_t=0.5, random_state=None, shuffle=True,\n",
        "       verbose=0, warm_start=False),\n",
        "       fit_params={}, iid=True, n_jobs=1,\n",
        "       param_grid={'penalty': ['none', 'l2', 'l1', 'elasticnet'], 'loss': ['hinge', 'log', 'modified_huber', 'squared_hinge', 'perceptron', 'squared_loss', 'huber', 'epsilon_insensitive', 'squared_epsilon_insensitive']},\n",
        "       pre_dispatch='2*n_jobs', refit=True, scoring='accuracy', verbose=0)"
       ]
      }
     ],
     "prompt_number": 50
    },
    {
     "cell_type": "code",
     "collapsed": false,
     "input": [
      "print \"Best model score:  \" + str( grid.best_score_)\n",
      "print \"Best model parameter:  \" + str( grid.best_params_)\n",
      "print \"Best model escimators:  \" + str( grid.best_estimator_)\n"
     ],
     "language": "python",
     "metadata": {},
     "outputs": [
      {
       "output_type": "stream",
       "stream": "stdout",
       "text": [
        "Best model score:  0.696202531646\n",
        "Best model parameter:  {'penalty': 'none', 'loss': 'log'}\n",
        "Best model escimators:  SGDClassifier(alpha=0.0001, average=False, class_weight=None, epsilon=0.1,\n",
        "       eta0=0.0, fit_intercept=True, l1_ratio=0.15,\n",
        "       learning_rate='optimal', loss='log', n_iter=5, n_jobs=1,\n",
        "       penalty='none', power_t=0.5, random_state=None, shuffle=True,\n",
        "       verbose=0, warm_start=False)\n"
       ]
      }
     ],
     "prompt_number": 51
    },
    {
     "cell_type": "code",
     "collapsed": false,
     "input": [
      "grid_mean_score = [result.mean_validation_score for result in grid.grid_scores_]\n",
      "\n",
      "grid.grid_scores_"
     ],
     "language": "python",
     "metadata": {},
     "outputs": [
      {
       "metadata": {},
       "output_type": "pyout",
       "prompt_number": 52,
       "text": [
        "[mean: 0.64810, std: 0.07642, params: {'penalty': 'none', 'loss': 'hinge'},\n",
        " mean: 0.62278, std: 0.11658, params: {'penalty': 'l2', 'loss': 'hinge'},\n",
        " mean: 0.58228, std: 0.13164, params: {'penalty': 'l1', 'loss': 'hinge'},\n",
        " mean: 0.61519, std: 0.12383, params: {'penalty': 'elasticnet', 'loss': 'hinge'},\n",
        " mean: 0.69620, std: 0.04884, params: {'penalty': 'none', 'loss': 'log'},\n",
        " mean: 0.63038, std: 0.08590, params: {'penalty': 'l2', 'loss': 'log'},\n",
        " mean: 0.58228, std: 0.13408, params: {'penalty': 'l1', 'loss': 'log'},\n",
        " mean: 0.63797, std: 0.11546, params: {'penalty': 'elasticnet', 'loss': 'log'},\n",
        " mean: 0.65316, std: 0.12429, params: {'penalty': 'none', 'loss': 'modified_huber'},\n",
        " mean: 0.61772, std: 0.13975, params: {'penalty': 'l2', 'loss': 'modified_huber'},\n",
        " mean: 0.62785, std: 0.04105, params: {'penalty': 'l1', 'loss': 'modified_huber'},\n",
        " mean: 0.61772, std: 0.08482, params: {'penalty': 'elasticnet', 'loss': 'modified_huber'},\n",
        " mean: 0.63797, std: 0.11421, params: {'penalty': 'none', 'loss': 'squared_hinge'},\n",
        " mean: 0.67089, std: 0.07029, params: {'penalty': 'l2', 'loss': 'squared_hinge'},\n",
        " mean: 0.54937, std: 0.15841, params: {'penalty': 'l1', 'loss': 'squared_hinge'},\n",
        " mean: 0.63291, std: 0.11874, params: {'penalty': 'elasticnet', 'loss': 'squared_hinge'},\n",
        " mean: 0.55190, std: 0.16055, params: {'penalty': 'none', 'loss': 'perceptron'},\n",
        " mean: 0.58987, std: 0.10906, params: {'penalty': 'l2', 'loss': 'perceptron'},\n",
        " mean: 0.58987, std: 0.13382, params: {'penalty': 'l1', 'loss': 'perceptron'},\n",
        " mean: 0.60253, std: 0.14196, params: {'penalty': 'elasticnet', 'loss': 'perceptron'},\n",
        " mean: 0.53418, std: 0.12872, params: {'penalty': 'none', 'loss': 'squared_loss'},\n",
        " mean: 0.48101, std: 0.13153, params: {'penalty': 'l2', 'loss': 'squared_loss'},\n",
        " mean: 0.53165, std: 0.13401, params: {'penalty': 'l1', 'loss': 'squared_loss'},\n",
        " mean: 0.53671, std: 0.15646, params: {'penalty': 'elasticnet', 'loss': 'squared_loss'},\n",
        " mean: 0.49367, std: 0.14255, params: {'penalty': 'none', 'loss': 'huber'},\n",
        " mean: 0.48608, std: 0.18853, params: {'penalty': 'l2', 'loss': 'huber'},\n",
        " mean: 0.53924, std: 0.16835, params: {'penalty': 'l1', 'loss': 'huber'},\n",
        " mean: 0.50633, std: 0.16411, params: {'penalty': 'elasticnet', 'loss': 'huber'},\n",
        " mean: 0.49367, std: 0.14900, params: {'penalty': 'none', 'loss': 'epsilon_insensitive'},\n",
        " mean: 0.53165, std: 0.16746, params: {'penalty': 'l2', 'loss': 'epsilon_insensitive'},\n",
        " mean: 0.39494, std: 0.13101, params: {'penalty': 'l1', 'loss': 'epsilon_insensitive'},\n",
        " mean: 0.49620, std: 0.14977, params: {'penalty': 'elasticnet', 'loss': 'epsilon_insensitive'},\n",
        " mean: 0.53418, std: 0.15652, params: {'penalty': 'none', 'loss': 'squared_epsilon_insensitive'},\n",
        " mean: 0.48354, std: 0.14515, params: {'penalty': 'l2', 'loss': 'squared_epsilon_insensitive'},\n",
        " mean: 0.48608, std: 0.15417, params: {'penalty': 'l1', 'loss': 'squared_epsilon_insensitive'},\n",
        " mean: 0.56709, std: 0.12959, params: {'penalty': 'elasticnet', 'loss': 'squared_epsilon_insensitive'}]"
       ]
      }
     ],
     "prompt_number": 52
    },
    {
     "cell_type": "code",
     "collapsed": false,
     "input": [
      "clf = grid.best_estimator_\n",
      "num_train = 300\n",
      "num_test = num_all - num_train\n",
      "X_train, X_test, y_train,y_test  = train_test_split(X_all, y_all, test_size = num_test, train_size = num_train)\n",
      "train_predict(clf, X_train, y_train, X_test, y_test)\n",
      "\n",
      "\n",
      "num_train = 200\n",
      "num_test = num_all - num_train\n",
      "X_train, X_test, y_train,y_test  = train_test_split(X_all, y_all, test_size = num_test, train_size = num_train)\n",
      "train_predict(clf, X_train, y_train, X_test, y_test)\n",
      "\n",
      "\n",
      "\n",
      "num_train = 100\n",
      "num_test = num_all - num_train\n",
      "X_train, X_test, y_train,y_test  = train_test_split(X_all, y_all, test_size = num_test, train_size = num_train)\n",
      "train_predict(clf, X_train, y_train, X_test, y_test)"
     ],
     "language": "python",
     "metadata": {},
     "outputs": [
      {
       "output_type": "stream",
       "stream": "stdout",
       "text": [
        "------------------------------------------\n",
        "Training set size: 300\n",
        "Training SGDClassifier...\n",
        "Done!\n",
        "Training time (secs): 0.001\n",
        "Predicting labels using SGDClassifier...\n",
        "Done!\n",
        "Prediction time (secs): 0.001\n",
        "F1 score for training set: 0.824524312896\n",
        "Predicting labels using SGDClassifier...\n",
        "Done!\n",
        "Prediction time (secs): 0.000\n",
        "F1 score for test set: 0.818181818182\n",
        "------------------------------------------\n",
        "Training set size: 200\n",
        "Training SGDClassifier...\n",
        "Done!\n",
        "Training time (secs): 0.002\n",
        "Predicting labels using SGDClassifier...\n",
        "Done!\n",
        "Prediction time (secs): 0.000\n",
        "F1 score for training set: 0.811940298507\n",
        "Predicting labels using SGDClassifier...\n",
        "Done!\n",
        "Prediction time (secs): 0.000\n",
        "F1 score for test set: 0.795031055901\n",
        "------------------------------------------\n",
        "Training set size: 100\n",
        "Training SGDClassifier...\n",
        "Done!\n",
        "Training time (secs): 0.001\n",
        "Predicting labels using SGDClassifier...\n",
        "Done!\n",
        "Prediction time (secs): 0.000\n",
        "F1 score for training set: 0.826666666667\n",
        "Predicting labels using SGDClassifier...\n",
        "Done!\n",
        "Prediction time (secs): 0.000\n",
        "F1 score for test set: 0.810572687225\n"
       ]
      }
     ],
     "prompt_number": 54
    },
    {
     "cell_type": "code",
     "collapsed": false,
     "input": [],
     "language": "python",
     "metadata": {},
     "outputs": []
    }
   ],
   "metadata": {}
  }
 ]
}